{
 "cells": [
  {
   "cell_type": "code",
   "execution_count": 1,
   "metadata": {},
   "outputs": [
    {
     "data": {
      "text/plain": [
       "<torch.autograd.anomaly_mode.set_detect_anomaly at 0x7f3b0c18f2b0>"
      ]
     },
     "execution_count": 1,
     "metadata": {},
     "output_type": "execute_result"
    }
   ],
   "source": [
    "from PIL import Image \n",
    "import matplotlib.pylab as plt\n",
    "import numpy as np\n",
    "import os\n",
    "from scraper import *\n",
    "import torch\n",
    "from torch import dist\n",
    "from torch import nn\n",
    "from torch.nn import functional as f\n",
    "from torch import optim\n",
    "from torchvision.transforms import *\n",
    "\n",
    "torch.autograd.set_detect_anomaly(True)"
   ]
  },
  {
   "cell_type": "code",
   "execution_count": 2,
   "metadata": {},
   "outputs": [],
   "source": [
    "def tensor_from_image(path, dims):\n",
    "    \n",
    "    image = Image.open(path)\n",
    "    transform = Compose([Resize(dims)])\n",
    "    image = transform(image)\n",
    "    imagematrix = np.asarray(image)\n",
    "    \n",
    "    if(len(imagematrix.shape) != 3):\n",
    "        return None\n",
    "    imagematrix = np.transpose(imagematrix, (2, 0, 1))\n",
    "    imagetensor = torch.from_numpy(imagematrix)\n",
    "    imagetensor = imagetensor.float()\n",
    "    \n",
    "    N, H, W = imagetensor.size()\n",
    "    imagetensor = imagetensor.view((1, N, H, W))\n",
    "    \n",
    "    return imagetensor"
   ]
  },
  {
   "cell_type": "code",
   "execution_count": 3,
   "metadata": {},
   "outputs": [],
   "source": [
    "def normalize(imagetensor):\n",
    "    \n",
    "    means = torch.mean(imagetensor, dim=(1, 2))\n",
    "    stds = torch.std(imagetensor, dim=(1, 2))\n",
    "    \n",
    "    for i in range(3):\n",
    "        imagetensor[i] = (imagetensor[i] - means[i]) / stds[i]\n",
    "    return imagetensor\n"
   ]
  },
  {
   "cell_type": "code",
   "execution_count": 4,
   "metadata": {},
   "outputs": [],
   "source": [
    "class ImageDataset:    \n",
    "        \n",
    "    def __init__(self, source_dir, dims):\n",
    "        \n",
    "        dirs = os.listdir(source_dir)\n",
    "        samples = []\n",
    "        \n",
    "        for i, dir in enumerate(dirs):\n",
    "            \n",
    "            sample = {}\n",
    "            sample['name'] = dir\n",
    "            \n",
    "            q_imagefile = os.path.join(source_dir, dir, 'q.png')\n",
    "            p_imagefile = os.path.join(source_dir, dir, 'p.png')\n",
    "            n_imagefile = os.path.join(source_dir, dir, 'n.png')\n",
    "            \n",
    "            sample['query'] = tensor_from_image(q_imagefile, dims)\n",
    "            sample['pos'] = tensor_from_image(p_imagefile, dims)\n",
    "            sample['neg'] = tensor_from_image(n_imagefile, dims)\n",
    "            \n",
    "            if(sample['query'] is None or sample['pos'] is None or sample['neg'] is None):\n",
    "                continue\n",
    "            \n",
    "            samples.append(sample)\n",
    "        \n",
    "        self.samples = samples\n",
    "        self.size = len(samples)\n",
    "        self.dims = dims\n",
    "    \n",
    "    def __iter__(self):\n",
    "        for sample in self.samples:\n",
    "            yield sample\n",
    "        \n",
    "    def __getitem__(self, idx):\n",
    "        return self.samples[idx]\n",
    "    \n",
    "    def display(self, idx):\n",
    "        _, ax = plt.subplots(1, 3, figsize=(15, 15))\n",
    "        images = []\n",
    "        sample = self.samples[idx]\n",
    "        for i, category in enumerate(['query', 'pos', 'neg']):\n",
    "            imagetensor = sample[category]\n",
    "            imagetensor = imagetensor.cpu()\n",
    "            imagematrix = imagetensor.numpy()\n",
    "            imagematrix = imagematrix[0]\n",
    "            imagematrix = np.transpose(imagematrix, (1, 2, 0))\n",
    "            imagematrix = np.int32(imagematrix)\n",
    "            ax[i].imshow(imagematrix)"
   ]
  },
  {
   "cell_type": "code",
   "execution_count": null,
   "metadata": {},
   "outputs": [],
   "source": []
  }
 ],
 "metadata": {
  "kernelspec": {
   "display_name": "Python 3",
   "language": "python",
   "name": "python3"
  },
  "language_info": {
   "codemirror_mode": {
    "name": "ipython",
    "version": 3
   },
   "file_extension": ".py",
   "mimetype": "text/x-python",
   "name": "python",
   "nbconvert_exporter": "python",
   "pygments_lexer": "ipython3",
   "version": "3.8.2"
  }
 },
 "nbformat": 4,
 "nbformat_minor": 4
}
