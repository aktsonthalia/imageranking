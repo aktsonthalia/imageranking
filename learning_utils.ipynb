{
 "cells": [
  {
   "cell_type": "code",
   "execution_count": 2,
   "metadata": {},
   "outputs": [
    {
     "name": "stdout",
     "output_type": "stream",
     "text": [
      "importing Jupyter notebook from preprocessing.ipynb\n"
     ]
    }
   ],
   "source": [
    "import import_ipynb\n",
    "from preprocessing import *"
   ]
  },
  {
   "cell_type": "code",
   "execution_count": 3,
   "metadata": {},
   "outputs": [],
   "source": [
    "class cnn(nn.Module):\n",
    "    \n",
    "    def __init__(self, in_channels=3):\n",
    "        super(cnn, self).__init__()\n",
    "        self.features = nn.Sequential(\n",
    "            nn.Conv2d(3, 9, kernel_size=3, padding=2),\n",
    "            nn.ReLU(),\n",
    "            nn.MaxPool2d(kernel_size=3),\n",
    "            nn.Conv2d(9, 25, kernel_size=3, padding=2),\n",
    "            nn.ReLU(),\n",
    "            nn.MaxPool2d(kernel_size=3),\n",
    "            nn.Conv2d(25, 64, kernel_size=3, padding=2),\n",
    "            nn.MaxPool2d(kernel_size=3),\n",
    "            nn.Conv2d(64, 192, kernel_size=3, padding=2),\n",
    "            nn.MaxPool2d(kernel_size=3),\n",
    "        )\n",
    "        \n",
    "\n",
    "    def forward(self, X):\n",
    "        \n",
    "        X[0] = normalize(X[0])\n",
    "        X = self.features(X)        \n",
    "        return X"
   ]
  },
  {
   "cell_type": "code",
   "execution_count": 4,
   "metadata": {},
   "outputs": [],
   "source": [
    "def evaluate(model, samples, distance_function=dist, p_dist=2):\n",
    "    \n",
    "    total = 0\n",
    "    correct = 0\n",
    "    \n",
    "    for sample in samples:\n",
    "        q, p, n = sample['query'], sample['pos'], sample['neg']\n",
    "        q = model(q)\n",
    "        p = model(p)\n",
    "        n = model(n)\n",
    "        q = q[0]\n",
    "        p = p[0]\n",
    "        n = n[0]\n",
    "        if(dist(q, p, p_dist) <= dist(q, n, p_dist)):\n",
    "            correct += 1\n",
    "        total += 1\n",
    "    \n",
    "    print(\"{} samples in total. Correctly identified: {}, accuracy: {:.3f}\".format(total, correct, correct/total))\n",
    "\n",
    "    "
   ]
  },
  {
   "cell_type": "code",
   "execution_count": 5,
   "metadata": {},
   "outputs": [],
   "source": [
    "def to_cuda(samples):\n",
    "    cuda = torch.device('cuda:0')\n",
    "    for sample in samples:\n",
    "        q = sample['query']\n",
    "        p = sample['pos']\n",
    "        n = sample['neg']\n",
    "        q = q.to(cuda)\n",
    "        p = p.to(cuda)    \n",
    "        n = n.to(cuda) \n",
    "        sample['name'] = sample['name']\n",
    "        sample['query'] = q\n",
    "        sample['pos'] = p\n",
    "        sample['neg'] = n\n",
    "    return samples"
   ]
  },
  {
   "cell_type": "code",
   "execution_count": 6,
   "metadata": {},
   "outputs": [],
   "source": [
    "def train(model, train_set, test_set, optimizer, dist_function=dist, n_epochs=1, g=None, p_dist=2):\n",
    "    \n",
    "    for i in range(n_epochs):\n",
    "        for sample in train_set:\n",
    "            q = sample['query']\n",
    "            p = sample['pos']\n",
    "            n = sample['neg']\n",
    "            \n",
    "            q = model(q)\n",
    "            p = model(p)\n",
    "            n = model(n)\n",
    "            q = q[0]\n",
    "            p = p[0]\n",
    "            n = n[0]\n",
    "            dist1 = dist_function(q, p, p_dist)\n",
    "            dist2 = dist_function(q, n, p_dist)\n",
    "            loss = dist1 - dist2 + g\n",
    "            if(loss > 0):\n",
    "                loss.backward()\n",
    "                optimizer.step()\n",
    "        print(\"Epoch {} completed.\".format(i+1))\n",
    "        evaluate(model, train_set, p_dist)\n",
    "        evaluate(model, test_set, p_dist)\n",
    "        "
   ]
  },
  {
   "cell_type": "code",
   "execution_count": null,
   "metadata": {},
   "outputs": [],
   "source": []
  }
 ],
 "metadata": {
  "kernelspec": {
   "display_name": "Python 3",
   "language": "python",
   "name": "python3"
  },
  "language_info": {
   "codemirror_mode": {
    "name": "ipython",
    "version": 3
   },
   "file_extension": ".py",
   "mimetype": "text/x-python",
   "name": "python",
   "nbconvert_exporter": "python",
   "pygments_lexer": "ipython3",
   "version": "3.8.2"
  }
 },
 "nbformat": 4,
 "nbformat_minor": 4
}
